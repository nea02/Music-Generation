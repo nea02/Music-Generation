{
 "cells": [
  {
   "cell_type": "code",
   "execution_count": 1,
   "id": "94fb712e",
   "metadata": {},
   "outputs": [
    {
     "ename": "ModuleNotFoundError",
     "evalue": "No module named 'music21'",
     "output_type": "error",
     "traceback": [
      "\u001b[1;31m---------------------------------------------------------------------------\u001b[0m",
      "\u001b[1;31mModuleNotFoundError\u001b[0m                       Traceback (most recent call last)",
      "Cell \u001b[1;32mIn[1], line 2\u001b[0m\n\u001b[0;32m      1\u001b[0m \u001b[38;5;28;01mimport\u001b[39;00m \u001b[38;5;21;01mos\u001b[39;00m\n\u001b[1;32m----> 2\u001b[0m \u001b[38;5;28;01mfrom\u001b[39;00m \u001b[38;5;21;01mmusic21\u001b[39;00m \u001b[38;5;28;01mimport\u001b[39;00m converter, note, chord\n\u001b[0;32m      3\u001b[0m \u001b[38;5;28;01mimport\u001b[39;00m \u001b[38;5;21;01mpandas\u001b[39;00m \u001b[38;5;28;01mas\u001b[39;00m \u001b[38;5;21;01mpd\u001b[39;00m\n\u001b[0;32m      5\u001b[0m \u001b[38;5;28;01mdef\u001b[39;00m \u001b[38;5;21mcalculate_descriptive_stats\u001b[39m(folder_paths):\n",
      "\u001b[1;31mModuleNotFoundError\u001b[0m: No module named 'music21'"
     ]
    }
   ],
   "source": [
    "import os\n",
    "from music21 import converter, note, chord\n",
    "import pandas as pd\n",
    "\n",
    "def calculate_descriptive_stats(folder_paths):\n",
    "    data = {'Composer': [], 'Mean Note Duration': [], 'Tempo': [], 'Key Signatures': [], 'Chord Complexity': [], 'Pitch Range': []}\n",
    "\n",
    "    for folder_path in folder_paths:\n",
    "        composer = os.path.basename(folder_path)\n",
    "\n",
    "        # Initialize variables for each composer\n",
    "        durations = []\n",
    "        tempos = []\n",
    "        key_signatures = set()\n",
    "        chord_complexities = []\n",
    "        pitches = []\n",
    "\n",
    "        for file_name in os.listdir(folder_path):\n",
    "            if file_name.endswith(\".mid\"):\n",
    "                file_path = os.path.join(folder_path, file_name)\n",
    "                midi = converter.parse(file_path)\n",
    "\n",
    "                # Calculate mean note duration\n",
    "                for note_or_chord in midi.flatten().notesAndRests:\n",
    "                    if isinstance(note_or_chord, note.Note):\n",
    "                        durations.append(note_or_chord.duration.quarterLength)\n",
    "                    elif isinstance(note_or_chord, chord.Chord):\n",
    "                        avg_duration = sum(n.duration.quarterLength for n in note_or_chord) / len(note_or_chord)\n",
    "                        durations.append(avg_duration)\n",
    "\n",
    "                # Get time signature to calculate tempo\n",
    "                time_signature = midi.flatten().getElementsByClass('TimeSignature')[0]\n",
    "                beats_per_measure = time_signature.beatCount\n",
    "\n",
    "                # Check if denominator is an integer or not\n",
    "                if isinstance(time_signature.denominator, int):\n",
    "                    beat_duration_quarterLength = 4.0 / time_signature.denominator\n",
    "                else:\n",
    "                    beat_duration_quarterLength = 4.0 / time_signature.denominator.type\n",
    "\n",
    "                tempo = 60 * beats_per_measure / beat_duration_quarterLength\n",
    "\n",
    "                tempos.append(tempo)\n",
    "\n",
    "                # Get key signatures\n",
    "                key_signatures.update([str(k) for k in midi.flatten().getElementsByClass('KeySignature')])\n",
    "\n",
    "                # Calculate chord complexity (average number of notes per chord)\n",
    "                chord_symbols = midi.chordify().flatten().getElementsByClass('ChordSymbol')\n",
    "                if chord_symbols:\n",
    "                    chord_complexities.append(len(midi.chordify().flatten().getElementsByClass(chord.Chord)) / len(chord_symbols))\n",
    "                else:\n",
    "                    chord_complexities.append(0)  # Handle the case where there are no chord symbols\n",
    "\n",
    "                # Calculate pitch range\n",
    "                all_pitches = [p.midi for p in midi.flatten().pitches]\n",
    "                pitch_range = max(all_pitches) - min(all_pitches)\n",
    "                pitches.append(pitch_range)\n",
    "\n",
    "        # Calculate mean values for each composer\n",
    "        mean_duration = sum(durations) / len(durations)\n",
    "        mean_tempo = sum(tempos) / len(tempos)\n",
    "        mean_chord_complexity = sum(chord_complexities) / len(chord_complexities) if chord_complexities else 0\n",
    "        mean_pitch_range = sum(pitches) / len(pitches)\n",
    "\n",
    "        data['Composer'].append(composer)\n",
    "        data['Mean Note Duration'].append(mean_duration)\n",
    "        data['Tempo'].append(mean_tempo)\n",
    "        data['Key Signatures'].append(\", \".join(key_signatures))\n",
    "        data['Chord Complexity'].append(mean_chord_complexity)\n",
    "        data['Pitch Range'].append(mean_pitch_range)\n",
    "\n",
    "    df = pd.DataFrame(data)\n",
    "    return df\n",
    "\n",
    "folder_paths = [\n",
    "    \"C:\\\\Users\\\\MEEVAL ANNA SAJI\\\\Desktop\\\\DATASET\\\\chopin\",\n",
    "    \"C:\\\\Users\\\\MEEVAL ANNA SAJI\\\\Desktop\\\\DATASET\\\\beeth\",\n",
    "    \"C:\\\\Users\\\\MEEVAL ANNA SAJI\\\\Desktop\\\\DATASET\\\\haydn\",\n",
    "    \"C:\\\\Users\\\\MEEVAL ANNA SAJI\\\\Desktop\\\\DATASET\\\\liszt\"\n",
    "]\n",
    "\n",
    "composer_stats_df = calculate_descriptive_stats(folder_paths)\n",
    "print(composer_stats_df)\n"
   ]
  },
  {
   "cell_type": "code",
   "execution_count": null,
   "id": "50f4e020",
   "metadata": {},
   "outputs": [],
   "source": [
    "pip install pandas"
   ]
  },
  {
   "cell_type": "code",
   "execution_count": null,
   "id": "9360047a",
   "metadata": {},
   "outputs": [
    {
     "ename": "ModuleNotFoundError",
     "evalue": "No module named 'pandas'",
     "output_type": "error",
     "traceback": [
      "\u001b[1;31m---------------------------------------------------------------------------\u001b[0m",
      "\u001b[1;31mModuleNotFoundError\u001b[0m                       Traceback (most recent call last)",
      "Cell \u001b[1;32mIn[2], line 1\u001b[0m\n\u001b[1;32m----> 1\u001b[0m \u001b[38;5;28;01mimport\u001b[39;00m \u001b[38;5;21;01mpandas\u001b[39;00m \u001b[38;5;28;01mas\u001b[39;00m \u001b[38;5;21;01mpd\u001b[39;00m\n\u001b[0;32m      2\u001b[0m \u001b[38;5;28;01mfrom\u001b[39;00m \u001b[38;5;21;01msklearn\u001b[39;00m\u001b[38;5;21;01m.\u001b[39;00m\u001b[38;5;21;01mimpute\u001b[39;00m \u001b[38;5;28;01mimport\u001b[39;00m SimpleImputer\n\u001b[0;32m      3\u001b[0m \u001b[38;5;28;01mfrom\u001b[39;00m \u001b[38;5;21;01msklearn\u001b[39;00m\u001b[38;5;21;01m.\u001b[39;00m\u001b[38;5;21;01mpreprocessing\u001b[39;00m \u001b[38;5;28;01mimport\u001b[39;00m OneHotEncoder, StandardScaler\n",
      "\u001b[1;31mModuleNotFoundError\u001b[0m: No module named 'pandas'"
     ]
    }
   ],
   "source": [
    "import pandas as pd\n",
    "from sklearn.impute import SimpleImputer\n",
    "from sklearn.preprocessing import OneHotEncoder, StandardScaler\n",
    "from sklearn.compose import ColumnTransformer\n",
    "from sklearn.metrics.pairwise import cosine_similarity\n",
    "\n",
    "# Check for Missing Values\n",
    "print(\"Missing Values:\")\n",
    "print(composer_stats_df.isnull().sum())\n",
    "\n",
    "# Identify categorical columns\n",
    "categorical_cols = [col for col in composer_stats_df.columns if composer_stats_df[col].dtype == 'object']\n",
    "\n",
    "# Drop non-numeric columns\n",
    "numeric_data = composer_stats_df.drop(columns=categorical_cols)\n",
    "\n",
    "# Handle missing values for numeric data\n",
    "imputer = SimpleImputer(strategy='mean')\n",
    "composer_stats_df_imputed = pd.DataFrame(imputer.fit_transform(numeric_data), columns=numeric_data.columns)\n",
    "\n",
    "# Encode categorical columns\n",
    "encoder = OneHotEncoder()\n",
    "transformers = [('encoder', encoder, categorical_cols)]\n",
    "column_transformer = ColumnTransformer(transformers, remainder='passthrough')\n",
    "composer_stats_df_encoded = pd.DataFrame(column_transformer.fit_transform(composer_stats_df), columns=column_transformer.get_feature_names_out())\n",
    "\n",
    "# Standardize the data\n",
    "scaler = StandardScaler()\n",
    "scaled_data = scaler.fit_transform(composer_stats_df_encoded)\n",
    "\n",
    "# Calculate centralized mean for each feature\n",
    "centralized_means = {}\n",
    "for feature in composer_stats_df_encoded.columns:\n",
    "    mean_value = composer_stats_df_encoded[feature].mean()\n",
    "    centralized_means[feature] = mean_value\n",
    "\n",
    "# Centralize the data by subtracting the mean from each feature value\n",
    "centralized_data = composer_stats_df_encoded.copy()\n",
    "for feature, mean_value in centralized_means.items():\n",
    "    centralized_data[feature] -= mean_value\n",
    "\n",
    "# Calculate cosine similarity matrix between composers\n",
    "cosine_sim_matrix = cosine_similarity(centralized_data)\n",
    "\n",
    "# Convert the cosine similarity matrix to a DataFrame for better visualization\n",
    "composers = composer_stats_df['Composer'].tolist()\n",
    "cosine_sim_df = pd.DataFrame(cosine_sim_matrix, index=composers, columns=composers)\n",
    "\n",
    "print(\"\\nCentralized Cosine Similarity Matrix:\")\n",
    "print(cosine_sim_df)"
   ]
  },
  {
   "cell_type": "code",
   "execution_count": null,
   "id": "8760b223",
   "metadata": {},
   "outputs": [
    {
     "ename": "",
     "evalue": "",
     "output_type": "error",
     "traceback": [
      "\u001b[1;31mRunning cells with 'Python 3.11.9' requires the ipykernel package.\n",
      "\u001b[1;31mRun the following command to install 'ipykernel' into the Python environment. \n",
      "\u001b[1;31mCommand: '\"c:/Users/MEEVAL ANNA SAJI/AppData/Local/Microsoft/WindowsApps/python3.11.exe\" -m pip install ipykernel -U --user --force-reinstall'"
     ]
    }
   ],
   "source": [
    "import matplotlib.pyplot as plt\n",
    "import seaborn as sns\n",
    "\n",
    "cosine_similarity_matrix = [\n",
    "    [1.000000, 0.955355, -0.599510, -0.416699 ],\n",
    "    [0.955355 ,1.000000 ,-0.694818, -0.305791 ],\n",
    "    [-0.599510 ,-0.694818 , 1.000000, -0.464440 ],\n",
    "    [-0.416699, -0.305791, -0.464440,  1.000000 ]\n",
    "]\n",
    "\n",
    "# Define the row and column labels\n",
    "composers = ['Chopin','Beethoven', 'Haydn', 'Liszt']\n",
    "\n",
    "# Create a heatmap\n",
    "plt.figure(figsize=(8, 6))\n",
    "sns.heatmap(cosine_similarity_matrix, annot=True, cmap='coolwarm', xticklabels=composers, yticklabels=composers)\n",
    "plt.title('Centralized Cosine Similarity Matrix')\n",
    "plt.xlabel('Composers')\n",
    "plt.ylabel('Composers')\n",
    "plt.xticks(rotation=45)\n",
    "plt.yticks(rotation=0)\n",
    "plt.show()"
   ]
  },
  {
   "cell_type": "code",
   "execution_count": null,
   "id": "4916493d",
   "metadata": {},
   "outputs": [
    {
     "ename": "",
     "evalue": "",
     "output_type": "error",
     "traceback": [
      "\u001b[1;31mRunning cells with 'Python 3.11.9' requires the ipykernel package.\n",
      "\u001b[1;31mRun the following command to install 'ipykernel' into the Python environment. \n",
      "\u001b[1;31mCommand: '\"c:/Users/MEEVAL ANNA SAJI/AppData/Local/Microsoft/WindowsApps/python3.11.exe\" -m pip install ipykernel -U --user --force-reinstall'"
     ]
    }
   ],
   "source": [
    "import os\n",
    "from shutil import copyfile\n",
    "\n",
    "# Define your musician names and similarity matrix as before\n",
    "musician_names = ['chopin',  'beeth', 'haydn', 'liszt']\n",
    "cosine_similarity_matrix = [\n",
    "    [1.000000, 0.955355, -0.599510, -0.416699 ],\n",
    "    [0.955355 ,1.000000 ,-0.694818, -0.305791 ],\n",
    "    [-0.599510 ,-0.694818 , 1.000000, -0.464440 ],\n",
    "    [-0.416699, -0.305791, -0.464440,  1.000000 ]\n",
    "]\n",
    "\n",
    "# Define a similarity threshold\n",
    "similarity_threshold = 0.7\n",
    "\n",
    "# Initialize a dictionary to store grouped MIDI datasets\n",
    "grouped_datasets = {}\n",
    "\n",
    "# Iterate through the similarity matrix to group similar datasets\n",
    "for i in range(len(cosine_similarity_matrix)):\n",
    "    for j in range(i + 1, len(cosine_similarity_matrix[i])):\n",
    "        if cosine_similarity_matrix[i][j] >= similarity_threshold:\n",
    "            # Add datasets to the same group\n",
    "            if i not in grouped_datasets:\n",
    "                grouped_datasets[i] = [i]\n",
    "            grouped_datasets[i].append(j)\n",
    "\n",
    "# Create combined folder and copy MIDI files from corresponding musician folders\n",
    "output_folder = 'C:\\\\Users\\\\MEEVAL ANNA SAJI\\\\Desktop\\\\DATASET\\\\combined'\n",
    "os.makedirs(output_folder, exist_ok=True)\n",
    "\n",
    "# Copy MIDI files to the combined folder based on grouped indices\n",
    "for group_indices in grouped_datasets.values():\n",
    "    group_names = [musician_names[i] for i in group_indices]\n",
    "    print(\"Group Indices:\", group_indices)\n",
    "    print(\"Group Names:\", group_names)\n",
    "    for musician_name in group_names:\n",
    "        musician_folder = f'C:\\\\Users\\\\MEEVAL ANNA SAJI\\\\Desktop\\\\DATASET\\\\{musician_name}'\n",
    "        for file_name in os.listdir(musician_folder):\n",
    "            if file_name.endswith(\".mid\"):\n",
    "                source_file = os.path.join(musician_folder, file_name)\n",
    "                destination_file = os.path.join(output_folder, file_name)\n",
    "                copyfile(source_file, destination_file)\n",
    "\n",
    "# Print the name pairs of combined musicians\n",
    "for group_indices in grouped_datasets.values():\n",
    "    group_names = [musician_names[i] for i in group_indices]\n",
    "    print(\"Combined musicians:\", group_names)\n"
   ]
  },
  {
   "cell_type": "code",
   "execution_count": null,
   "id": "6859e984",
   "metadata": {},
   "outputs": [
    {
     "ename": "",
     "evalue": "",
     "output_type": "error",
     "traceback": [
      "\u001b[1;31mRunning cells with 'Python 3.11.9' requires the ipykernel package.\n",
      "\u001b[1;31mRun the following command to install 'ipykernel' into the Python environment. \n",
      "\u001b[1;31mCommand: '\"c:/Users/MEEVAL ANNA SAJI/AppData/Local/Microsoft/WindowsApps/python3.11.exe\" -m pip install ipykernel -U --user --force-reinstall'"
     ]
    }
   ],
   "source": [
    "import os\n",
    "from shutil import copyfile\n",
    "\n",
    "# Define your musician names and similarity matrix as before\n",
    "musician_names = ['chopin', 'beeth', 'haydn', 'liszt']\n",
    "cosine_similarity_matrix = [\n",
    "    [1.000000, 0.955355, -0.599510, -0.416699],\n",
    "    [0.955355, 1.000000, -0.694818, -0.305791],\n",
    "    [-0.599510, -0.694818, 1.000000, -0.464440],\n",
    "    [-0.416699, -0.305791, -0.464440, 1.000000]\n",
    "]\n",
    "\n",
    "# Define a similarity threshold\n",
    "similarity_threshold = 0.7\n",
    "\n",
    "# Initialize a dictionary to store grouped MIDI datasets\n",
    "grouped_datasets = {}\n",
    "\n",
    "# Iterate through the similarity matrix to group similar datasets\n",
    "for i in range(len(cosine_similarity_matrix)):\n",
    "    for j in range(i + 1, len(cosine_similarity_matrix[i])):\n",
    "        if cosine_similarity_matrix[i][j] >= similarity_threshold:\n",
    "            # Add datasets to the same group\n",
    "            if i not in grouped_datasets:\n",
    "                grouped_datasets[i] = [i]\n",
    "            grouped_datasets[i].append(j)\n",
    "\n",
    "# Create folders for combined MIDI files based on grouped indices\n",
    "output_folder = 'C:\\\\Users\\\\MEEVAL ANNA SAJI\\\\Desktop\\\\DATASET\\\\combined'\n",
    "os.makedirs(output_folder, exist_ok=True)\n",
    "\n",
    "# Copy MIDI files to the combined folders based on grouped indices\n",
    "for group_indices in grouped_datasets.values():\n",
    "    group_names = [musician_names[i] for i in group_indices]\n",
    "    group_folder_name = '_'.join(group_names)\n",
    "    group_folder_path = os.path.join(output_folder, group_folder_name)\n",
    "    os.makedirs(group_folder_path, exist_ok=True)\n",
    "\n",
    "    for musician_name in group_names:\n",
    "        musician_folder = f'C:\\\\Users\\\\MEEVAL ANNA SAJI\\\\Desktop\\\\DATASET\\\\{musician_name}'\n",
    "        for file_name in os.listdir(musician_folder):\n",
    "            if file_name.endswith(\".mid\"):\n",
    "                source_file = os.path.join(musician_folder, file_name)\n",
    "                destination_file = os.path.join(group_folder_path, file_name)\n",
    "                copyfile(source_file, destination_file)\n",
    "\n",
    "# Print the name pairs of combined musicians and their corresponding folders\n",
    "for group_indices in grouped_datasets.values():\n",
    "    group_names = [musician_names[i] for i in group_indices]\n",
    "    print(\"Combined musicians:\", group_names)\n",
    "    group_folder_name = '_'.join(group_names)\n",
    "    print(\"Group Folder:\", group_folder_name)\n"
   ]
  },
  {
   "cell_type": "code",
   "execution_count": null,
   "id": "c794eb72",
   "metadata": {},
   "outputs": [
    {
     "ename": "",
     "evalue": "",
     "output_type": "error",
     "traceback": [
      "\u001b[1;31mRunning cells with 'Python 3.11.9' requires the ipykernel package.\n",
      "\u001b[1;31mRun the following command to install 'ipykernel' into the Python environment. \n",
      "\u001b[1;31mCommand: '\"c:/Users/MEEVAL ANNA SAJI/AppData/Local/Microsoft/WindowsApps/python3.11.exe\" -m pip install ipykernel -U --user --force-reinstall'"
     ]
    }
   ],
   "source": [
    "from music21 import instrument, note, chord\n",
    "\n",
    "def extract_notes(file):\n",
    "    notes = []\n",
    "    pick = None\n",
    "    for j in file:\n",
    "        songs = instrument.partitionByInstrument(j)\n",
    "        for part in songs.parts:\n",
    "            pick = part.recurse()\n",
    "            for element in pick:\n",
    "                if isinstance(element, note.Note):\n",
    "                    notes.append(str(element.pitch))\n",
    "                elif isinstance(element, chord.Chord):\n",
    "                    notes.append(\".\".join(str(n) for n in element.normalOrder))\n",
    "\n",
    "    return notes\n",
    "\n",
    "# Function to calculate and display total notes for each folder\n",
    "def display_total_notes(folder_paths):\n",
    "    for folder_path in folder_paths:\n",
    "        musician = os.path.basename(folder_path).lower()\n",
    "        all_midis = combine_datasets([folder_path])\n",
    "        total_notes = extract_notes(all_midis)\n",
    "        print(f\"Total notes in {musician} midis in the dataset: {len(total_notes)}\")\n",
    "\n",
    "display_total_notes(folder_paths)"
   ]
  },
  {
   "cell_type": "code",
   "execution_count": null,
   "id": "f2148d6b",
   "metadata": {},
   "outputs": [
    {
     "ename": "",
     "evalue": "",
     "output_type": "error",
     "traceback": [
      "\u001b[1;31mRunning cells with 'Python 3.11.9' requires the ipykernel package.\n",
      "\u001b[1;31mRun the following command to install 'ipykernel' into the Python environment. \n",
      "\u001b[1;31mCommand: '\"c:/Users/MEEVAL ANNA SAJI/AppData/Local/Microsoft/WindowsApps/python3.11.exe\" -m pip install ipykernel -U --user --force-reinstall'"
     ]
    }
   ],
   "source": [
    "def display_first_10_notes(folder_paths):\n",
    "    for folder_path in folder_paths:\n",
    "        musician = os.path.basename(folder_path).lower()\n",
    "        all_midis = combine_datasets([folder_path])\n",
    "        first_10_notes = extract_notes(all_midis)[:10]\n",
    "        print(f\"First 10 values in {musician} midis in the dataset:\", first_10_notes)\n",
    "\n",
    "display_first_10_notes(folder_paths)              "
   ]
  },
  {
   "cell_type": "code",
   "execution_count": null,
   "id": "aef1145f",
   "metadata": {},
   "outputs": [
    {
     "ename": "",
     "evalue": "",
     "output_type": "error",
     "traceback": [
      "\u001b[1;31mRunning cells with 'Python 3.11.9' requires the ipykernel package.\n",
      "\u001b[1;31mRun the following command to install 'ipykernel' into the Python environment. \n",
      "\u001b[1;31mCommand: '\"c:/Users/MEEVAL ANNA SAJI/AppData/Local/Microsoft/WindowsApps/python3.11.exe\" -m pip install ipykernel -U --user --force-reinstall'"
     ]
    }
   ],
   "source": [
    "from collections import Counter\n",
    "\n",
    "# Function to create a count dictionary for each musician's folder\n",
    "def count_notes(folder_paths):\n",
    "    all_notes = []\n",
    "    \n",
    "    for folder_path in folder_paths:\n",
    "        musician = os.path.basename(folder_path).lower()\n",
    "        all_midis = combine_datasets([folder_path])\n",
    "        notes = extract_notes(all_midis)\n",
    "        all_notes.extend(notes)\n",
    "\n",
    "        # Display total unique notes for each musician's folder\n",
    "        count_num = Counter(notes)\n",
    "        print(f\"Total unique notes in {musician} midis in the dataset: {len(count_num)}\")\n",
    "\n",
    "    # Display total unique notes for the entire dataset\n",
    "    count_num_all = Counter(all_notes)\n",
    "    print(\"Total unique notes in the entire dataset:\", len(count_num_all))\n",
    "    \n",
    "    \n",
    "count_notes(folder_paths)"
   ]
  },
  {
   "cell_type": "code",
   "execution_count": null,
   "id": "0445f020",
   "metadata": {},
   "outputs": [
    {
     "ename": "",
     "evalue": "",
     "output_type": "error",
     "traceback": [
      "\u001b[1;31mRunning cells with 'Python 3.11.9' requires the ipykernel package.\n",
      "\u001b[1;31mRun the following command to install 'ipykernel' into the Python environment. \n",
      "\u001b[1;31mCommand: '\"c:/Users/MEEVAL ANNA SAJI/AppData/Local/Microsoft/WindowsApps/python3.11.exe\" -m pip install ipykernel -U --user --force-reinstall'"
     ]
    }
   ],
   "source": [
    "# Function to explore the notes dictionary and calculate average recurrence\n",
    "def explore_notes_dictionary(folder_paths):\n",
    "    all_notes = []\n",
    "    \n",
    "    for folder_path in folder_paths:\n",
    "        musician = os.path.basename(folder_path).lower()\n",
    "        all_midis = combine_datasets([folder_path])\n",
    "        notes = extract_notes(all_midis)\n",
    "        all_notes.extend(notes)\n",
    "\n",
    "        # Display statistics for each musician's folder\n",
    "        count_num = Counter(notes)\n",
    "        avg_recurrence = sum(count_num.values()) / len(count_num)\n",
    "        print(f\"\\nStatistics for {musician} midis in the dataset:\")\n",
    "        print(\"Total unique notes:\", len(count_num))\n",
    "        print(\"Average recurrence for a note:\", avg_recurrence)\n",
    "        print(\"Most frequent note appeared:\", max(count_num.values()), \"times\")\n",
    "        print(\"Least frequent note appeared:\", min(count_num.values()), \"time\")\n",
    "\n",
    "    # Display overall statistics for the entire dataset\n",
    "    count_num_all = Counter(all_notes)\n",
    "    avg_recurrence_all = sum(count_num_all.values()) / len(count_num_all)\n",
    "    print(\"\\nStatistics for the entire dataset:\")\n",
    "    print(\"Total unique notes:\", len(count_num_all))\n",
    "    print(\"Average recurrence for a note:\", avg_recurrence_all)\n",
    "    print(\"Most frequent note appeared:\", max(count_num_all.values()), \"times\")\n",
    "    print(\"Least frequent note appeared:\", min(count_num_all.values()), \"time\")\n",
    "    \n",
    "# Explore the notes dictionary and calculate average recurrence for each folder and the entire dataset\n",
    "explore_notes_dictionary(folder_paths)\n"
   ]
  },
  {
   "cell_type": "code",
   "execution_count": null,
   "id": "49402360",
   "metadata": {},
   "outputs": [
    {
     "ename": "",
     "evalue": "",
     "output_type": "error",
     "traceback": [
      "\u001b[1;31mRunning cells with 'Python 3.11.9' requires the ipykernel package.\n",
      "\u001b[1;31mRun the following command to install 'ipykernel' into the Python environment. \n",
      "\u001b[1;31mCommand: '\"c:/Users/MEEVAL ANNA SAJI/AppData/Local/Microsoft/WindowsApps/python3.11.exe\" -m pip install ipykernel -U --user --force-reinstall'"
     ]
    }
   ],
   "source": [
    "# Function to get a list of rare chords and display statistics\n",
    "def get_rare_chords(folder_paths, threshold=100):\n",
    "    all_notes = []\n",
    "    rare_notes = []\n",
    "    \n",
    "    for folder_path in folder_paths:\n",
    "        musician = os.path.basename(folder_path).lower()\n",
    "        all_midis = combine_datasets([folder_path])\n",
    "        notes = extract_notes(all_midis)\n",
    "        all_notes.extend(notes)\n",
    "\n",
    "        # Display statistics for each musician's folder\n",
    "        count_num = Counter(notes)\n",
    "        rare_notes_folder = [note for note, count in count_num.items() if count < threshold]\n",
    "        rare_notes.extend(rare_notes_folder)\n",
    "        print(f\"\\nStatistics for {musician} midis in the dataset:\")\n",
    "        print(\"Total unique notes:\", len(count_num))\n",
    "        print(\"Total number of notes that occur less than\", threshold, \"times:\", len(rare_notes_folder))\n",
    "\n",
    "    # Display overall statistics for the entire dataset\n",
    "    count_num_all = Counter(all_notes)\n",
    "    rare_notes_all = [note for note, count in count_num_all.items() if count < threshold]\n",
    "    rare_notes.extend(rare_notes_all)\n",
    "    print(\"\\nStatistics for the entire dataset:\")\n",
    "    print(\"Total unique notes:\", len(count_num_all))\n",
    "    print(\"Total number of notes that occur less than\", threshold, \"times:\", len(rare_notes_all))\n",
    "\n",
    "    return rare_notes\n",
    "\n",
    "# Get a list of rare chords and display statistics for each folder and the entire dataset\n",
    "rare_chords = get_rare_chords(folder_paths)\n",
    "print(\"Total number of notes that occur less than 100 times in the entire dataset:\", len(rare_chords))\n"
   ]
  },
  {
   "cell_type": "code",
   "execution_count": null,
   "id": "db6b409f",
   "metadata": {},
   "outputs": [
    {
     "ename": "",
     "evalue": "",
     "output_type": "error",
     "traceback": [
      "\u001b[1;31mRunning cells with 'Python 3.11.9' requires the ipykernel package.\n",
      "\u001b[1;31mRun the following command to install 'ipykernel' into the Python environment. \n",
      "\u001b[1;31mCommand: '\"c:/Users/MEEVAL ANNA SAJI/AppData/Local/Microsoft/WindowsApps/python3.11.exe\" -m pip install ipykernel -U --user --force-reinstall'"
     ]
    }
   ],
   "source": [
    "# Function to eliminate rare chords and display updated statistics\n",
    "def eliminate_rare_chords(folder_paths, rare_notes):\n",
    "    all_notes = []\n",
    "    \n",
    "    for folder_path in folder_paths:\n",
    "        musician = os.path.basename(folder_path).lower()\n",
    "        all_midis = combine_datasets([folder_path])\n",
    "        notes = extract_notes(all_midis)\n",
    "        all_notes.extend(notes)\n",
    "\n",
    "        # Eliminate rare notes for each musician's folder\n",
    "        notes_filtered_folder = [note for note in notes if note not in rare_notes]\n",
    "        print(f\"\\nStatistics for {musician} midis in the dataset after eliminating rare notes:\")\n",
    "        print(\"Updated total unique notes:\", len(set(notes_filtered_folder)))\n",
    "\n",
    "    # Eliminate rare notes for the entire dataset\n",
    "    notes_filtered_all = [note for note in all_notes if note not in rare_notes]\n",
    "    print(\"\\nStatistics for the entire dataset after eliminating rare notes:\")\n",
    "    print(\"Updated total unique notes:\", len(set(notes_filtered_all)))\n",
    "\n",
    "    return notes_filtered_all\n",
    "\n",
    "# Eliminate rare chords and get the updated notes for each folder and the entire dataset\n",
    "updated_notes = eliminate_rare_chords(folder_paths, rare_chords)\n",
    "\n",
    "# Data preprocessing to build a mapping dictionary\n",
    "symb = sorted(list(set(updated_notes)))\n",
    "\n",
    "L_corpus = len(updated_notes)  # length of the corpus\n",
    "L_symb = len(symb)  # length of total unique characters\n",
    "\n",
    "# Building a dictionary to access the vocabulary from indices and vice versa\n",
    "mapping = dict((c, i) for i, c in enumerate(symb))\n",
    "reverse_mapping = dict((i, c) for i, c in enumerate(symb))\n",
    "\n",
    "print(\"Total number of characters:\", L_corpus)\n",
    "print(\"Number of unique characters:\", L_symb)\n"
   ]
  },
  {
   "cell_type": "code",
   "execution_count": null,
   "id": "95833b33",
   "metadata": {},
   "outputs": [
    {
     "ename": "",
     "evalue": "",
     "output_type": "error",
     "traceback": [
      "\u001b[1;31mRunning cells with 'Python 3.11.9' requires the ipykernel package.\n",
      "\u001b[1;31mRun the following command to install 'ipykernel' into the Python environment. \n",
      "\u001b[1;31mCommand: '\"c:/Users/MEEVAL ANNA SAJI/AppData/Local/Microsoft/WindowsApps/python3.11.exe\" -m pip install ipykernel -U --user --force-reinstall'"
     ]
    }
   ],
   "source": [
    "# Splitting the Corpus into equal length sequences and output targets\n",
    "length = 40\n",
    "features_list = []\n",
    "targets_list = []\n",
    "\n",
    "for folder_path in folder_paths:\n",
    "    musician = os.path.basename(folder_path).lower()\n",
    "    all_midis = combine_datasets([folder_path])\n",
    "    notes = extract_notes(all_midis)\n",
    "    \n",
    "    features = []\n",
    "    targets = []\n",
    "\n",
    "    for i in range(0, len(notes) - length, 1):\n",
    "        feature = notes[i:i + length]\n",
    "        target = notes[i + length]\n",
    "\n",
    "        # Check if each note is in the mapping dictionary before retrieving its index\n",
    "        if all(note in mapping for note in feature) and target in mapping:\n",
    "            features.append([mapping[j] for j in feature])\n",
    "            targets.append(mapping[target])\n",
    "\n",
    "    features_list.append(features)\n",
    "    targets_list.append(targets)\n"
   ]
  },
  {
   "cell_type": "code",
   "execution_count": null,
   "id": "8b0fb6bb",
   "metadata": {},
   "outputs": [
    {
     "ename": "",
     "evalue": "",
     "output_type": "error",
     "traceback": [
      "\u001b[1;31mRunning cells with 'Python 3.11.9' requires the ipykernel package.\n",
      "\u001b[1;31mRun the following command to install 'ipykernel' into the Python environment. \n",
      "\u001b[1;31mCommand: '\"c:/Users/MEEVAL ANNA SAJI/AppData/Local/Microsoft/WindowsApps/python3.11.exe\" -m pip install ipykernel -U --user --force-reinstall'"
     ]
    }
   ],
   "source": [
    "import numpy as np\n",
    "import tensorflow.keras.utils\n",
    "\n",
    "# Combine features and targets from all folders\n",
    "all_features = []\n",
    "all_targets = []\n",
    "\n",
    "for folder_features, folder_targets in zip(features_list, targets_list):\n",
    "    all_features.extend(folder_features)\n",
    "    all_targets.extend(folder_targets)\n",
    "\n",
    "# Reshape X and normalize\n",
    "X = (np.reshape(all_features, (len(all_features), length, 1))) / float(L_symb)\n",
    "\n",
    "# One hot encode the output variable\n",
    "y = tensorflow.keras.utils.to_categorical(all_targets)"
   ]
  },
  {
   "cell_type": "code",
   "execution_count": null,
   "id": "9ea36f16",
   "metadata": {},
   "outputs": [
    {
     "ename": "",
     "evalue": "",
     "output_type": "error",
     "traceback": [
      "\u001b[1;31mRunning cells with 'Python 3.11.9' requires the ipykernel package.\n",
      "\u001b[1;31mRun the following command to install 'ipykernel' into the Python environment. \n",
      "\u001b[1;31mCommand: '\"c:/Users/MEEVAL ANNA SAJI/AppData/Local/Microsoft/WindowsApps/python3.11.exe\" -m pip install ipykernel -U --user --force-reinstall'"
     ]
    }
   ],
   "source": [
    "from sklearn.model_selection import train_test_split\n",
    "\n",
    "# Assuming X and y are your input features and target variable\n",
    "X_train, X_seed, y_train, y_seed = train_test_split(X, y, test_size=0.2, random_state=42)"
   ]
  },
  {
   "cell_type": "code",
   "execution_count": null,
   "id": "50b8aeb4",
   "metadata": {},
   "outputs": [
    {
     "ename": "",
     "evalue": "",
     "output_type": "error",
     "traceback": [
      "\u001b[1;31mRunning cells with 'Python 3.11.9' requires the ipykernel package.\n",
      "\u001b[1;31mRun the following command to install 'ipykernel' into the Python environment. \n",
      "\u001b[1;31mCommand: '\"c:/Users/MEEVAL ANNA SAJI/AppData/Local/Microsoft/WindowsApps/python3.11.exe\" -m pip install ipykernel -U --user --force-reinstall'"
     ]
    }
   ],
   "source": [
    "#MODEL BUILDING\n",
    "import matplotlib.pyplot as plt \n",
    "from sklearn.model_selection import train_test_split\n",
    "from tensorflow.keras.models import Sequential\n",
    "from tensorflow.keras.layers import LSTM, Dense, Dropout\n",
    "import tensorflow.keras.backend as K\n",
    "from tensorflow.keras.optimizers import Adamax\n",
    "import seaborn as sns\n",
    "\n",
    "#Initialising the Model\n",
    "model = Sequential()\n",
    "#Adding layers\n",
    "model.add(LSTM(512, input_shape=(X.shape[1], X.shape[2]), return_sequences=True))\n",
    "model.add(Dropout(0.2))\n",
    "model.add(LSTM(512))\n",
    "model.add(Dense(512))\n",
    "model.add(Dropout(0.2))\n",
    "model.add(Dense(y.shape[1], activation='softmax'))\n",
    "#Compiling the model for training  \n",
    "opt = Adamax(learning_rate=0.001)\n",
    "model.compile(metrics=['accuracy'],loss='categorical_crossentropy', optimizer=opt)"
   ]
  },
  {
   "cell_type": "code",
   "execution_count": null,
   "id": "6b09634d",
   "metadata": {},
   "outputs": [
    {
     "ename": "",
     "evalue": "",
     "output_type": "error",
     "traceback": [
      "\u001b[1;31mRunning cells with 'Python 3.11.9' requires the ipykernel package.\n",
      "\u001b[1;31mRun the following command to install 'ipykernel' into the Python environment. \n",
      "\u001b[1;31mCommand: '\"c:/Users/MEEVAL ANNA SAJI/AppData/Local/Microsoft/WindowsApps/python3.11.exe\" -m pip install ipykernel -U --user --force-reinstall'"
     ]
    }
   ],
   "source": [
    "model.summary()"
   ]
  },
  {
   "cell_type": "code",
   "execution_count": null,
   "id": "4368c548",
   "metadata": {},
   "outputs": [
    {
     "ename": "",
     "evalue": "",
     "output_type": "error",
     "traceback": [
      "\u001b[1;31mRunning cells with 'Python 3.11.9' requires the ipykernel package.\n",
      "\u001b[1;31mRun the following command to install 'ipykernel' into the Python environment. \n",
      "\u001b[1;31mCommand: '\"c:/Users/MEEVAL ANNA SAJI/AppData/Local/Microsoft/WindowsApps/python3.11.exe\" -m pip install ipykernel -U --user --force-reinstall'"
     ]
    }
   ],
   "source": [
    "from keras.callbacks import EarlyStopping\n",
    "\n",
    "# Define early stopping\n",
    "early_stopping = EarlyStopping(monitor='val_loss', patience=10, restore_best_weights=True)\n",
    "\n",
    "# Training the Model with Early Stopping\n",
    "history = model.fit(X_train, y_train, epochs=200, validation_data=(X_seed, y_seed), callbacks=[early_stopping])\n"
   ]
  },
  {
   "cell_type": "code",
   "execution_count": null,
   "id": "63f5dece",
   "metadata": {},
   "outputs": [
    {
     "ename": "",
     "evalue": "",
     "output_type": "error",
     "traceback": [
      "\u001b[1;31mRunning cells with 'Python 3.11.9' requires the ipykernel package.\n",
      "\u001b[1;31mRun the following command to install 'ipykernel' into the Python environment. \n",
      "\u001b[1;31mCommand: '\"c:/Users/MEEVAL ANNA SAJI/AppData/Local/Microsoft/WindowsApps/python3.11.exe\" -m pip install ipykernel -U --user --force-reinstall'"
     ]
    }
   ],
   "source": [
    "model.save('LSTM_MODEL_MAIN.h5')"
   ]
  },
  {
   "cell_type": "code",
   "execution_count": null,
   "id": "1b91ea11",
   "metadata": {},
   "outputs": [
    {
     "ename": "",
     "evalue": "",
     "output_type": "error",
     "traceback": [
      "\u001b[1;31mRunning cells with 'Python 3.11.9' requires the ipykernel package.\n",
      "\u001b[1;31mRun the following command to install 'ipykernel' into the Python environment. \n",
      "\u001b[1;31mCommand: '\"c:/Users/MEEVAL ANNA SAJI/AppData/Local/Microsoft/WindowsApps/python3.11.exe\" -m pip install ipykernel -U --user --force-reinstall'"
     ]
    }
   ],
   "source": [
    "from music21 import stream, note, chord\n",
    "from keras.models import load_model\n",
    "\n",
    "model = load_model('LSTM_MODEL_MAIN.h5')\n",
    "\n",
    "# Function to convert a list of chords and notes into a music stream\n",
    "def chords_n_notes(snippet):\n",
    "    melody = []\n",
    "    offset = 0  # Incremental\n",
    "\n",
    "    for i in snippet:\n",
    "        # If it is a chord\n",
    "        if (\".\" in i or i.isdigit()):\n",
    "            chord_notes = i.split(\".\")  # Separating the notes in a chord\n",
    "            notes = []\n",
    "\n",
    "            for j in chord_notes:\n",
    "                inst_note = int(j)\n",
    "                note_snip = note.Note(inst_note)\n",
    "                notes.append(note_snip)\n",
    "\n",
    "            chord_snip = chord.Chord(notes)\n",
    "            chord_snip.offset = offset\n",
    "            melody.append(chord_snip)\n",
    "        # If it is a note\n",
    "        else:\n",
    "            note_snip = note.Note(i)\n",
    "            note_snip.offset = offset\n",
    "            melody.append(note_snip)\n",
    "\n",
    "        # Increase offset each iteration so that notes do not stack\n",
    "        offset += 1\n",
    "\n",
    "    melody_stream = stream.Stream(melody)\n",
    "    return melody_stream\n",
    "\n",
    "def Melody_Generator(Note_Count, model, length, L_symb, reverse_mapping):\n",
    "    seed = X_seed[np.random.randint(0, len(X_seed) - 1)]\n",
    "    Music = \"\"\n",
    "    Notes_Generated = []\n",
    "\n",
    "    for i in range(Note_Count):\n",
    "        seed = seed.reshape(1, length, 1)\n",
    "        prediction = model.predict(seed, verbose=0)[0]\n",
    "        prediction = np.log(prediction) / 1.0  # diversity\n",
    "        exp_preds = np.exp(prediction)\n",
    "        prediction = exp_preds / np.sum(exp_preds)\n",
    "        index = np.argmax(prediction)\n",
    "        index_N = index / float(L_symb)\n",
    "        Notes_Generated.append(index)\n",
    "        Music = [reverse_mapping[char] for char in Notes_Generated]\n",
    "        seed = np.insert(seed[0], len(seed[0]), index_N)\n",
    "        seed = seed[1:]\n",
    "\n",
    "    # Now, we have music in the form of a list of chords and notes, and we want to create a MIDI file.\n",
    "    Melody = chords_n_notes(Music)\n",
    "    Melody_midi = stream.Stream(Melody)\n",
    "    \n",
    "    return Music, Melody_midi\n",
    "\n",
    "# Define a function to let the user dynamically select a musician\n",
    "def select_musician():\n",
    "    print(\"Available musicians:\")\n",
    "    for folder_path in folder_paths:\n",
    "        musician = os.path.basename(folder_path).lower()\n",
    "        print(musician)\n",
    "\n",
    "    selected_musician = input(\"Enter the musician's name: \")\n",
    "    return selected_musician\n",
    "\n",
    "# Example usage:\n",
    "selected_musician = select_musician()\n",
    "Music_notes, Melody = Melody_Generator(250, model, length, L_symb, reverse_mapping)\n",
    "\n",
    "# Save the generated melody to a MIDI file\n",
    "Melody.write('midi', 'generated_music.mid')\n"
   ]
  },
  {
   "cell_type": "code",
   "execution_count": null,
   "id": "2d2b5747",
   "metadata": {},
   "outputs": [
    {
     "ename": "",
     "evalue": "",
     "output_type": "error",
     "traceback": [
      "\u001b[1;31mRunning cells with 'Python 3.11.9' requires the ipykernel package.\n",
      "\u001b[1;31mRun the following command to install 'ipykernel' into the Python environment. \n",
      "\u001b[1;31mCommand: '\"c:/Users/MEEVAL ANNA SAJI/AppData/Local/Microsoft/WindowsApps/python3.11.exe\" -m pip install ipykernel -U --user --force-reinstall'"
     ]
    }
   ],
   "source": [
    "from IPython.display import Audio, display\n",
    "\n",
    "# Specify the path to your audio file\n",
    "audio_path = \"C:\\\\Users\\\\MEEVAL ANNA SAJI\\\\Downloads\\\\haydn.mp3\"\n",
    "\n",
    "# Create an Audio object and display it\n",
    "audio = Audio(filename=audio_path)\n",
    "display(audio)\n"
   ]
  }
 ],
 "metadata": {
  "kernelspec": {
   "display_name": "Python 3 (ipykernel)",
   "language": "python",
   "name": "python3"
  },
  "language_info": {
   "codemirror_mode": {
    "name": "ipython",
    "version": 3
   },
   "file_extension": ".py",
   "mimetype": "text/x-python",
   "name": "python",
   "nbconvert_exporter": "python",
   "pygments_lexer": "ipython3",
   "version": "3.12.3"
  }
 },
 "nbformat": 4,
 "nbformat_minor": 5
}
